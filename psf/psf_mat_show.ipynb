{
 "cells": [
  {
   "cell_type": "code",
   "execution_count": 1,
   "id": "1d9c82d5-356c-47e3-afa0-55a2dee46918",
   "metadata": {},
   "outputs": [],
   "source": [
    "import glob\n",
    "import matplotlib.pyplot as plt\n",
    "import numpy as np\n",
    "from astropy.io import fits"
   ]
  },
  {
   "cell_type": "code",
   "execution_count": 2,
   "id": "ee4ac7f9-33a5-4c44-96a0-7729789b9a08",
   "metadata": {},
   "outputs": [],
   "source": [
    "small_psfs = glob.glob(\"M13_raw_images/psfccfbtf170075_*.fits\")\n",
    "trail_psfs = glob.glob(\"M13_raw_images/psfccfbte210072_*.fits\")\n",
    "distorted_psfs = glob.glob(\"M13_raw_images/psfccfbvc310078_*.fits\")"
   ]
  },
  {
   "cell_type": "code",
   "execution_count": 3,
   "id": "f74696b9-37ac-48bb-97a3-3d4a88c8bd84",
   "metadata": {},
   "outputs": [],
   "source": [
    "from mpl_toolkits.axes_grid1 import make_axes_locatable"
   ]
  },
  {
   "cell_type": "code",
   "execution_count": 4,
   "id": "1263d531-71b4-44fc-8ce1-26393cc85b14",
   "metadata": {},
   "outputs": [],
   "source": [
    "import sys"
   ]
  },
  {
   "cell_type": "code",
   "execution_count": 5,
   "id": "707a119e-1cdd-475a-8b5a-1e3511448445",
   "metadata": {},
   "outputs": [],
   "source": [
    "ticklabelsize = 17\n",
    "axeslabelsize = 19\n",
    "titlesize = 20"
   ]
  },
  {
   "cell_type": "code",
   "execution_count": 7,
   "id": "8b58ca69-909a-4961-9aff-5bce286c679a",
   "metadata": {},
   "outputs": [
    {
     "data": {
      "image/png": "[encoded data removed]",
      "text/plain": [
       "<Figure size 720x720 with 6 Axes>"
      ]
     },
     "metadata": {
      "needs_background": "light"
     },
     "output_type": "display_data"
    }
   ],
   "source": [
    "fig, ax = plt.subplots(1, 3, figsize=(10, 10), sharey='row', sharex=True)\n",
    "from matplotlib.ticker import FuncFormatter\n",
    "fmt = lambda x, pos: '{:.3f}'.format(x)\n",
    "# cbar = plt.colorbar(format=FuncFormatter(fmt))\n",
    "\n",
    "# fig.subplots_adjust(left=None, bottom=None, right=None, top=None, wspace=100, hspace=None)\n",
    "def clamp_less_than_zero_values(psf):\n",
    "    psf[psf < 0.0] = sys.float_info.epsilon\n",
    "    return psf\n",
    "\n",
    "divider = make_axes_locatable(ax[0])\n",
    "cax1 = divider.append_axes('right', size='5%', pad=0.1)\n",
    "mat1 = fits.getdata(small_psfs[0])\n",
    "\n",
    "# coordinates = peak_local_max(mat1, threshold_abs=0)\n",
    "show1 = ax[0].matshow(mat1, cmap='gray');\n",
    "# ax[0].plot(coordinates[:, 1], coordinates[:, 0], 'r.')\n",
    "ax[0].xaxis.set_ticks_position(\"bottom\")\n",
    "ax[0].set_title(\"Optimal PSF\", fontsize=titlesize)\n",
    "c1 = fig.colorbar(show1, cax=cax1, format=FuncFormatter(fmt))\n",
    "ax[0].tick_params(axis='both', which='major', labelsize=ticklabelsize)\n",
    "ax[0].tick_params(axis='both', which='minor', labelsize=ticklabelsize)\n",
    "ax[0].set_xticks([]); ax[0].set_yticks([])\n",
    "\n",
    "# coordinates = peak_local_max(mat1, threshold_abs=0)\n",
    "divider = make_axes_locatable(ax[1])\n",
    "cax2 = divider.append_axes('right', size='5%', pad=0.1)\n",
    "mat2 = fits.getdata(trail_psfs[0])\n",
    "show2 = ax[1].matshow(mat2, cmap='gray');\n",
    "# ax[1].plot(coordinates[:, 1], coordinates[:, 0], 'r.')\n",
    "ax[1].xaxis.set_ticks_position(\"bottom\")\n",
    "ax[1].set_title(\"Trailed PSF\", fontsize=titlesize)\n",
    "c2 = fig.colorbar(show2, cax=cax2, format=FuncFormatter(fmt))\n",
    "ax[1].tick_params(axis='both', which='major', labelsize=ticklabelsize)\n",
    "ax[1].tick_params(axis='both', which='minor', labelsize=ticklabelsize)\n",
    "ax[1].set_xticks([]); ax[1].set_yticks([])\n",
    "\n",
    "# coordinates = peak_local_max(mat1, threshold_abs=0)\n",
    "divider = make_axes_locatable(ax[2])\n",
    "cax3 = divider.append_axes('right', size='5%', pad=0.1)\n",
    "mat3 = fits.getdata(distorted_psfs[0])\n",
    "show3 = ax[2].matshow(mat3, cmap='gray');\n",
    "# ax[2].plot(coordinates[:, 1], coordinates[:, 0], 'r.')\n",
    "ax[2].xaxis.set_ticks_position(\"bottom\")\n",
    "ax[2].set_title(\"Distorted PSF\", fontsize=titlesize)\n",
    "c3 = fig.colorbar(show3, cax=cax3, format=FuncFormatter(fmt))\n",
    "ax[2].tick_params(axis='both', which='major', labelsize=ticklabelsize)\n",
    "ax[2].tick_params(axis='both', which='minor', labelsize=ticklabelsize)\n",
    "ax[2].set_xticks([]); ax[2].set_yticks([])\n",
    "\n",
    "fig.tight_layout()\n",
    "\n",
    "plt.savefig(\"psfMatShow.png\", dpi=250, bbox_inches='tight')"
   ]
  },
  {
   "cell_type": "code",
   "execution_count": null,
   "id": "e2586bed-0bef-4449-93b2-75074642c465",
   "metadata": {},
   "outputs": [],
   "source": []
  }
 ],
 "metadata": {
  "kernelspec": {
   "display_name": "Python 3 (ipykernel)",
   "language": "python",
   "name": "python3"
  },
  "language_info": {
   "codemirror_mode": {
    "name": "ipython",
    "version": 3
   },
   "file_extension": ".py",
   "mimetype": "text/x-python",
   "name": "python",
   "nbconvert_exporter": "python",
   "pygments_lexer": "ipython3",
   "version": "3.8.10"
  }
 },
 "nbformat": 4,
 "nbformat_minor": 5
}
